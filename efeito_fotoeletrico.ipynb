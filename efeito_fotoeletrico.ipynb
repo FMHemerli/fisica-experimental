{
 "cells": [
  {
   "cell_type": "markdown",
   "metadata": {},
   "source": [
    "# Apêndice A - Cálculos para o experimento do Efeito Fotoelétrico Externo e Determinação da Constante de Planck"
   ]
  },
  {
   "cell_type": "markdown",
   "metadata": {},
   "source": [
    "### Flávio Manoel Santos Hemerli"
   ]
  },
  {
   "cell_type": "code",
   "execution_count": 1,
   "metadata": {},
   "outputs": [],
   "source": [
    "from uncertainties import ufloat as u, umath as um"
   ]
  },
  {
   "cell_type": "code",
   "execution_count": 2,
   "metadata": {},
   "outputs": [],
   "source": [
    "d = 1/600000 #constante do reticulado\n",
    "e = 1.602E-19 #carga fundamental do elétron"
   ]
  },
  {
   "cell_type": "code",
   "execution_count": 3,
   "metadata": {},
   "outputs": [],
   "source": [
    "U_zero = [u(0.70, 0.01),\n",
    "         u(0.73, 0.01),\n",
    "         u(0.72, 0.01),\n",
    "         u(0.62, 0.01),\n",
    "         u(0.52, 0.01),\n",
    "         u(0.48, 0.01),\n",
    "         u(0.47, 0.01),\n",
    "         u(0.44, 0.01),\n",
    "         u(0.45, 0.01),]\n",
    "theta = [u(13.50,0.25),\n",
    "        u(14.00,0.25),\n",
    "        u(15.00,0.25),\n",
    "        u(16.50,0.25),\n",
    "        u(18.00,0.25),\n",
    "        u(19.00,0.25),\n",
    "        u(20.00,0.25),\n",
    "        u(22.00,0.25),\n",
    "        u(24.00,0.25),]"
   ]
  },
  {
   "cell_type": "code",
   "execution_count": 4,
   "metadata": {},
   "outputs": [],
   "source": [
    "def get_lambda(theta):\n",
    "    waveLength = d * um.sin(um.radians(theta))\n",
    "    return waveLength"
   ]
  },
  {
   "cell_type": "code",
   "execution_count": 5,
   "metadata": {},
   "outputs": [],
   "source": [
    "waveLength = [u(0.,0.)]*9"
   ]
  },
  {
   "cell_type": "code",
   "execution_count": 11,
   "metadata": {},
   "outputs": [
    {
     "name": "stdout",
     "output_type": "stream",
     "text": [
      "3.8907560642650898e-07+/-0.0707127360762276e-07\n",
      "4.0320315933277957e-07+/-0.0705618964231075e-07\n",
      "4.3136507517086793e-07+/-0.0702441083282960e-07\n",
      "4.7335890783987109e-07+/-0.0697273387772877e-07\n",
      "5.1502832395824569e-07+/-0.0691627815912397e-07\n",
      "5.4261359076192779e-07+/-0.0687600511790625e-07\n",
      "5.7003357220944784e-07+/-0.0683363757892025e-07\n",
      "6.2434432235985335e-07+/-0.0674267126396779e-07\n",
      "6.7789440512633377e-07+/-0.0664349004270908e-07\n"
     ]
    }
   ],
   "source": [
    "for i in range(0,9,1):\n",
    "    waveLength[i] = get_lambda(theta[i])\n",
    "    print(\"{:1.15ue}\".format(waveLength[i]))"
   ]
  },
  {
   "cell_type": "code",
   "execution_count": 7,
   "metadata": {},
   "outputs": [],
   "source": [
    "def get_nu(l):\n",
    "    waveFreq = 299792458/l\n",
    "    return waveFreq"
   ]
  },
  {
   "cell_type": "code",
   "execution_count": 8,
   "metadata": {},
   "outputs": [],
   "source": [
    "waveFreq = [u(0.,0)]*9"
   ]
  },
  {
   "cell_type": "code",
   "execution_count": 12,
   "metadata": {},
   "outputs": [
    {
     "name": "stdout",
     "output_type": "stream",
     "text": [
      "7.705249392360111e+14+/-0.140039431330011e+14\n",
      "7.435270559290667e+14+/-0.130119712343185e+14\n",
      "6.949854665013140e+14+/-0.113172431440288e+14\n",
      "6.3333012865031888e+14+/-0.0932916307412190e+14\n",
      "5.8208926393785037e+14+/-0.0781683467793179e+14\n",
      "5.5249714180405443e+14+/-0.0700124958045892e+14\n",
      "5.2592070470166457e+14+/-0.0630480671033353e+14\n",
      "4.8017167332741222e+14+/-0.0518566378769758e+14\n",
      "4.4224064357653186e+14+/-0.0433403977059584e+14\n"
     ]
    }
   ],
   "source": [
    "for i in range(0,9,1):\n",
    "    waveFreq[i] = get_nu(waveLength[i])\n",
    "    print(\"{:1.15ue}\".format(waveFreq[i]))"
   ]
  },
  {
   "cell_type": "code",
   "execution_count": 13,
   "metadata": {},
   "outputs": [],
   "source": [
    "slope = u(1.01010405522256e-15, 3.05633579049247e-17)\n",
    "h = slope * e"
   ]
  },
  {
   "cell_type": "code",
   "execution_count": 15,
   "metadata": {},
   "outputs": [
    {
     "name": "stdout",
     "output_type": "stream",
     "text": [
      "1.6181866964665412e-34+/-0.0489624993636894e-34\n"
     ]
    }
   ],
   "source": [
    "print(\"{:1.15ue}\".format(h))"
   ]
  }
 ],
 "metadata": {
  "kernelspec": {
   "display_name": "Python 3",
   "language": "python",
   "name": "python3"
  },
  "language_info": {
   "codemirror_mode": {
    "name": "ipython",
    "version": 3
   },
   "file_extension": ".py",
   "mimetype": "text/x-python",
   "name": "python",
   "nbconvert_exporter": "python",
   "pygments_lexer": "ipython3",
   "version": "3.7.4"
  }
 },
 "nbformat": 4,
 "nbformat_minor": 2
}
