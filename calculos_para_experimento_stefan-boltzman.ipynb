{
 "cells": [
  {
   "cell_type": "markdown",
   "metadata": {},
   "source": [
    "# Cálculos computacionais para o experimento de Stefan-Boltzman"
   ]
  },
  {
   "cell_type": "code",
   "execution_count": 1,
   "metadata": {},
   "outputs": [],
   "source": [
    "import math\n",
    "from uncertainties import ufloat as u\n",
    "from uncertainties import umath as um"
   ]
  },
  {
   "cell_type": "code",
   "execution_count": 2,
   "metadata": {},
   "outputs": [],
   "source": [
    "R_t = u(0.1773,0.0009) #Resistência obtida para temperatura ambiente de 24°C\n",
    "alpha = 4.82E-3 #alpha da lâmpada\n",
    "beta = 6.76E-7 #beta da lâmpada\n",
    "t_amb = 24 #temperatura ambiente obtida com sensor termopar "
   ]
  },
  {
   "cell_type": "code",
   "execution_count": 3,
   "metadata": {},
   "outputs": [],
   "source": [
    "#difnindo função que calcula a resistência nominal\n",
    "def R_0(alpha, beta, t, R_t):\n",
    "    R_0 = (R_t)/(1 + alpha*t + beta*t**2)\n",
    "    return R_0"
   ]
  },
  {
   "cell_type": "code",
   "execution_count": 4,
   "metadata": {},
   "outputs": [],
   "source": [
    "R_0 = R_0(alpha, beta, t_amb, R_t) #atribuindo valor da resistência nominal R_0"
   ]
  },
  {
   "cell_type": "code",
   "execution_count": 5,
   "metadata": {},
   "outputs": [
    {
     "name": "stdout",
     "output_type": "stream",
     "text": [
      "0.1589+/-0.0008\n"
     ]
    }
   ],
   "source": [
    "print(R_0)"
   ]
  },
  {
   "cell_type": "code",
   "execution_count": 6,
   "metadata": {},
   "outputs": [],
   "source": [
    "def Ohms_law(U,i):\n",
    "    R = U/i\n",
    "    return R"
   ]
  },
  {
   "cell_type": "code",
   "execution_count": 7,
   "metadata": {},
   "outputs": [
    {
     "name": "stdout",
     "output_type": "stream",
     "text": [
      "2.000+/-0.010\n",
      "2.250+/-0.010\n",
      "2.500+/-0.010\n",
      "2.750+/-0.010\n",
      "3.000+/-0.010\n",
      "3.250+/-0.010\n",
      "3.500+/-0.010\n",
      "3.750+/-0.010\n",
      "4.000+/-0.010\n",
      "4.250+/-0.010\n",
      "4.500+/-0.010\n"
     ]
    }
   ],
   "source": [
    "#inicia lista dos valores de corrente\n",
    "listi = [u(2,0.01)]*11\n",
    "for i in range(0,11,1):\n",
    "    listi[i] += i*0.25\n",
    "    print(listi[i])"
   ]
  },
  {
   "cell_type": "code",
   "execution_count": 8,
   "metadata": {},
   "outputs": [],
   "source": [
    "listR = [u(0.,0)]*11 #inicia lista vazia para as resistências\n",
    "listK = [u(0.,0)]*11 #inicia lista vazia para as temperaturas"
   ]
  },
  {
   "cell_type": "code",
   "execution_count": 9,
   "metadata": {},
   "outputs": [],
   "source": [
    "#lista de valores de tensão medidos para a lâmpada\n",
    "listU_lamp = [u(0.98, 0.01),\n",
    "             u(1.36, 0.01),\n",
    "             u(1.76, 0.01),\n",
    "             u(2.15, 0.01),\n",
    "              u(2.56, 0.01),\n",
    "             u(3.02, 0.01),\n",
    "             u(3.49, 0.01),\n",
    "             u(3.99, 0.01),\n",
    "             u(4.55, 0.01),\n",
    "             u(5.08, 0.01),\n",
    "             u(5.66, 0.01)]"
   ]
  },
  {
   "cell_type": "code",
   "execution_count": 10,
   "metadata": {},
   "outputs": [],
   "source": [
    "#lista de tensões geradas pelo sensor termopilha\n",
    "listU_term = [u(0.017, 0.001),\n",
    "             u(0.054, 0.001),\n",
    "             u(0.108, 0.001),\n",
    "              u(0.180, 0.001),\n",
    "              u(0.276, 0.001),\n",
    "              u(0.390, 0.001),\n",
    "              u(0.534, 0.001),\n",
    "              u(0.692, 0.001),\n",
    "              u(0.897, 0.001),\n",
    "              u(1.113, 0.001),\n",
    "              u(1.324, 0.001)]"
   ]
  },
  {
   "cell_type": "code",
   "execution_count": 11,
   "metadata": {},
   "outputs": [
    {
     "name": "stdout",
     "output_type": "stream",
     "text": [
      "0.490+/-0.006\n",
      "0.604+/-0.005\n",
      "0.704+/-0.005\n",
      "0.782+/-0.005\n",
      "0.853+/-0.004\n",
      "0.929+/-0.004\n",
      "0.997+/-0.004\n",
      "1.064+/-0.004\n",
      "1.137+/-0.004\n",
      "1.195+/-0.004\n",
      "1.258+/-0.004\n"
     ]
    }
   ],
   "source": [
    "#calcula pela Lei de Ohm o valor de resistência da lâmpada para cada par tensão-corrente\n",
    "for i in range(0,11,1):\n",
    "    listR[i] = Ohms_law(listU_lamp[i],listi[i])\n",
    "    print(listR[i])"
   ]
  },
  {
   "cell_type": "code",
   "execution_count": 12,
   "metadata": {},
   "outputs": [
    {
     "name": "stdout",
     "output_type": "stream",
     "text": [
      "682+/-7\n",
      "814+/-7\n",
      "925+/-7\n",
      "1010+/-7\n",
      "1087+/-7\n",
      "1167+/-7\n",
      "1237+/-7\n",
      "1306+/-7\n",
      "1379+/-7\n",
      "1437+/-7\n",
      "1498+/-7\n"
     ]
    }
   ],
   "source": [
    "def get_temp(R_0, R_t,alpha, beta):\n",
    "    T = 273 + 1/(2*beta) * (um.sqrt(alpha**2 + 4*beta*(R_t/R_0 - 1)) - alpha)\n",
    "    return T\n",
    "for i in range(0,11,1):\n",
    "    listK[i] = get_temp(R_0, listR[i], alpha, beta)\n",
    "    print(listK[i])"
   ]
  },
  {
   "cell_type": "code",
   "execution_count": 13,
   "metadata": {},
   "outputs": [
    {
     "name": "stdout",
     "output_type": "stream",
     "text": [
      "-4.07+/-0.06  |  6.525+/-0.010\n",
      "-2.919+/-0.019  |  6.702+/-0.008\n",
      "-2.226+/-0.009  |  6.830+/-0.007\n",
      "-1.715+/-0.006  |  6.918+/-0.007\n",
      "-1.287+/-0.004  |  6.991+/-0.006\n",
      "-0.9416+/-0.0026  |  7.062+/-0.006\n",
      "-0.6274+/-0.0019  |  7.121+/-0.005\n",
      "-0.3682+/-0.0014  |  7.174+/-0.005\n",
      "-0.1087+/-0.0011  |  7.229+/-0.005\n",
      "0.1071+/-0.0009  |  7.270+/-0.005\n",
      "0.2807+/-0.0008  |  7.312+/-0.005\n"
     ]
    }
   ],
   "source": [
    "logT = [0.]*11\n",
    "logUt = [0.]*11\n",
    "for i in range(0,11,1):\n",
    "    logT[i] = um.log(listK[i])\n",
    "    logUt[i] = um.log(listU_term[i])\n",
    "    print(logUt[i], \" | \", end = \" \")\n",
    "    print(logT[i])"
   ]
  }
 ],
 "metadata": {
  "kernelspec": {
   "display_name": "Python 3",
   "language": "python",
   "name": "python3"
  },
  "language_info": {
   "codemirror_mode": {
    "name": "ipython",
    "version": 3
   },
   "file_extension": ".py",
   "mimetype": "text/x-python",
   "name": "python",
   "nbconvert_exporter": "python",
   "pygments_lexer": "ipython3",
   "version": "3.7.4"
  }
 },
 "nbformat": 4,
 "nbformat_minor": 2
}
