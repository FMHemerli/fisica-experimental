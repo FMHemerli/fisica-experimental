{
 "cells": [
  {
   "cell_type": "markdown",
   "metadata": {},
   "source": [
    "# A. Cálculo Computacional"
   ]
  },
  {
   "cell_type": "code",
   "execution_count": 1,
   "metadata": {},
   "outputs": [],
   "source": [
    "import math #importa biblioteca matemática básica do Python\n",
    "import numpy as np #importa módulo de cálculo numérico NumPy\n",
    "from uncertainties import ufloat #importa biblioteca ufloat do módulo Uncertainties\n",
    "                                #para cálculo de propagação de incertezas\n",
    "from uncertainties.umath import *\n",
    "%matplotlib inline\n",
    "import matplotlib.pyplot as plt\n",
    "plt.style.use('seaborn-whitegrid') #Importa e configura biblioteca para exibição de gráficos"
   ]
  },
  {
   "cell_type": "markdown",
   "metadata": {},
   "source": [
    "# Cálculos Computacionais Referentes ao Experimento de Determinação da Carga Elementar - Experimento de Millikan\n",
    "Experimento Realizado dia 28 de Agosto de 2019 para disciplina Laboratório de Física Moderna do Curso de Licenciatura em Física, CCENS-UFES"
   ]
  },
  {
   "cell_type": "code",
   "execution_count": 2,
   "metadata": {},
   "outputs": [],
   "source": [
    "#Definição das constantes\n",
    "rho_o = 1.03e3 #Densidade do óleo de silicone (Kg/m³)\n",
    "rho_a = 1.293 #Densidade do ar a temperatura ambiente (Kg/m³)\n",
    "n = 1.82e-5 #Coeficiente de viscosidade do ar (Kg/m*s)\n",
    "g = 9.79 #Aceleração da gravidade (m/s²)\n",
    "d = ufloat(2.5e-3,0.01e-3) #Distância das placas do capacitor (m)\n",
    "S = ufloat(8.9e-4,0.1e-4) #Altura da escala do capacitor (m)\n",
    "dt = 0.001 #Incerteza do tempo (s)"
   ]
  },
  {
   "cell_type": "code",
   "execution_count": 3,
   "metadata": {},
   "outputs": [],
   "source": [
    "def particle_speed(ts,td,grid): #Função para cálculo da velocidade\n",
    "    vs = (grid/30*S)/(ufloat(ts,dt))\n",
    "    vd = (grid/30*S)/(ufloat(td,dt))\n",
    "    return [vs,vd]"
   ]
  },
  {
   "cell_type": "code",
   "execution_count": 4,
   "metadata": {},
   "outputs": [],
   "source": [
    "#Lista de tempos obtidos com o software Tracker [subida,descida]\n",
    "tlist = [[5.903,3.668],\n",
    "         [4.268,2.668],\n",
    "         [3.602,2.633],\n",
    "         [4.603,2.935],\n",
    "         [3.970,2.635],\n",
    "         [7.372,4.535],\n",
    "         [4.769,3.668],\n",
    "         [4.570,5.837],\n",
    "         [5.603,4.770],\n",
    "         [7.603,5.804],\n",
    "         [6.403,5.103],\n",
    "         [11.340,7.737],\n",
    "         [12.874,8.339],\n",
    "         [6.570,5.136],\n",
    "         [7.084,5.202],\n",
    "         [11.030,8.220],\n",
    "         [15.856,10.278],\n",
    "         [15.016,7.926],\n",
    "         [7.926,7.215],\n",
    "         [8.136,5.830]]\n",
    "vlist = [0.]*20 #Inicia lista vazia para as velocidades"
   ]
  },
  {
   "cell_type": "code",
   "execution_count": 5,
   "metadata": {},
   "outputs": [
    {
     "name": "stdout",
     "output_type": "stream",
     "text": [
      "[0.00015077079451126545+/-1.6942464047161092e-06, 0.00024263904034896398+/-2.7270837655557358e-06]\n",
      "[0.0002085285848172446+/-2.343527172499188e-06, 0.00033358320839580206+/-3.7502107724379264e-06]\n",
      "[0.00024708495280399776+/-2.777082754840255e-06, 0.0003380174705658944+/-3.8001181768527006e-06]\n",
      "[0.00019335216163371714+/-2.1729022546703778e-06, 0.00030323679727427597+/-3.4087211486670034e-06]\n",
      "[0.0002241813602015113+/-2.5195245714025444e-06, 0.00033776091081593926+/-3.797230548660679e-06]\n",
      "[0.00024145415084102006+/-2.713165687679053e-06, 0.000392502756339581+/-4.410992522507405e-06]\n",
      "[0.00037324386663870827+/-4.194481541499142e-06, 0.00048527808069792795+/-5.4541675311114715e-06]\n",
      "[0.0003894967177242888+/-4.3771974469985236e-06, 0.0003049511735480555+/-3.42681595774288e-06]\n",
      "[0.0003176869534178119+/-3.5699666189318903e-06, 0.0003731656184486373+/-4.193601889210435e-06]\n",
      "[0.00023411811127186635+/-2.6307207990677387e-06, 0.0003066850447966919+/-3.446304489095035e-06]\n",
      "[0.0004169920349836014+/-4.685756348480971e-06, 0.0005232216343327454+/-5.879788817243905e-06]\n",
      "[0.00023544973544973542+/-2.6455841206999987e-06, 0.000345094998061264+/-3.877728418892653e-06]\n",
      "[0.0002073947491067267+/-2.3303337632282865e-06, 0.0003201822760522844+/-3.5977585517262484e-06]\n",
      "[0.0004063926940639269+/-4.566628988954253e-06, 0.0005198598130841121+/-5.841998422702991e-06]\n",
      "[0.0003769057029926595+/-4.235229748502989e-06, 0.0005132641291810842+/-5.7678566602305575e-06]\n",
      "[0.0003227561196736174+/-3.6265913075898268e-06, 0.0004330900243309002+/-4.866465269878966e-06]\n",
      "[0.00022452068617558022+/-2.5227440788514418e-06, 0.0003463708892780696+/-3.891953651663801e-06]\n",
      "[0.0002370804475226425+/-2.6638720420259845e-06, 0.00044915468079737567+/-5.046999958315141e-06]\n",
      "[0.00044915468079737567+/-5.046999958315141e-06, 0.0004934164934164934+/-5.5444273225490675e-06]\n",
      "[0.00043756145526057034+/-4.916714992471463e-06, 0.0006106346483704974+/-6.861862892264196e-06]\n"
     ]
    }
   ],
   "source": [
    "#Calculos para as velocidades\n",
    "for i in range(0,5,1):\n",
    "    vlist[i] = particle_speed(tlist[i][0],tlist[i][1],30)\n",
    "    print(vlist[i])\n",
    "for i in range(5,10,1):\n",
    "    vlist[i] = particle_speed(tlist[i][0],tlist[i][1],60)\n",
    "    print(vlist[i])\n",
    "for i in range(10,15,1):\n",
    "    vlist[i] = particle_speed(tlist[i][0],tlist[i][1],90)\n",
    "    print(vlist[i])\n",
    "for i in range(15,20,1):\n",
    "    vlist[i] = particle_speed(tlist[i][0],tlist[i][1],120)\n",
    "    print(vlist[i])"
   ]
  },
  {
   "cell_type": "code",
   "execution_count": 6,
   "metadata": {},
   "outputs": [],
   "source": [
    "rlist = [0.]*20 #Inicia lista vazia de raios\n",
    "Qlist = [0.]*20 #inicia lista vazia de cargas"
   ]
  },
  {
   "cell_type": "code",
   "execution_count": 7,
   "metadata": {},
   "outputs": [],
   "source": [
    "#Cálculo do raio de cada gota\n",
    "def particle_radius(vs,vd):\n",
    "    if (vs - vd) < 0:\n",
    "        V = (vs - vd) * -1\n",
    "    else:\n",
    "        V = (vs - vd)\n",
    "    r = (3/2)*sqrt(n/(g*(rho_o-rho_a)))*sqrt(V)\n",
    "    return r"
   ]
  },
  {
   "cell_type": "code",
   "execution_count": 8,
   "metadata": {},
   "outputs": [
    {
     "name": "stdout",
     "output_type": "stream",
     "text": [
      "(6.112+/-0.034)e-07\n",
      "(7.13+/-0.04)e-07\n",
      "(6.081+/-0.035)e-07\n",
      "(6.68+/-0.04)e-07\n",
      "(6.80+/-0.04)e-07\n",
      "(7.84+/-0.04)e-07\n",
      "(6.75+/-0.04)e-07\n",
      "(5.863+/-0.033)e-07\n",
      "(4.750+/-0.027)e-07\n",
      "(5.432+/-0.031)e-07\n",
      "(6.57+/-0.04)e-07\n",
      "(6.68+/-0.04)e-07\n",
      "(6.77+/-0.04)e-07\n",
      "(6.79+/-0.04)e-07\n",
      "(7.45+/-0.04)e-07\n",
      "(6.70+/-0.04)e-07\n",
      "(7.04+/-0.04)e-07\n",
      "(9.29+/-0.05)e-07\n",
      "(4.242+/-0.024)e-07\n",
      "(8.39+/-0.05)e-07\n"
     ]
    }
   ],
   "source": [
    "for i in range(0,20,1):\n",
    "    rlist[i] = particle_radius(vlist[i][0],vlist[i][1])\n",
    "    print(rlist[i])"
   ]
  },
  {
   "cell_type": "code",
   "execution_count": 9,
   "metadata": {},
   "outputs": [],
   "source": [
    "#Cálculo da carga de cada gota\n",
    "def particle_charge(vs,vd,U):\n",
    "    if (vs - vd) < 0:\n",
    "        V = (vs - vd) * -1\n",
    "    else:\n",
    "        V = (vs - vd)\n",
    "    Q = ((9*math.pi*d)/2)*sqrt(n**3/(g*(rho_o-rho_a)))*(((vs+vd)/U)*sqrt(V))\n",
    "    return Q"
   ]
  },
  {
   "cell_type": "code",
   "execution_count": 10,
   "metadata": {},
   "outputs": [
    {
     "name": "stdout",
     "output_type": "stream",
     "text": [
      "(3.44+/-0.08)e-19\n",
      "(5.53+/-0.13)e-19\n",
      "(5.09+/-0.12)e-19\n",
      "(4.74+/-0.11)e-19\n",
      "(5.46+/-0.13)e-19\n",
      "(5.33+/-0.11)e-19\n",
      "(6.21+/-0.13)e-19\n",
      "(4.37+/-0.09)e-19\n",
      "(3.52+/-0.08)e-19\n",
      "(3.15+/-0.07)e-19\n",
      "(5.30+/-0.11)e-19\n",
      "(3.32+/-0.07)e-19\n",
      "(3.06+/-0.06)e-19\n",
      "(5.40+/-0.11)e-19\n",
      "(5.68+/-0.11)e-19\n",
      "(3.62+/-0.07)e-19\n",
      "(2.87+/-0.06)e-19\n",
      "(4.55+/-0.09)e-19\n",
      "(2.86+/-0.06)e-19\n",
      "(6.28+/-0.12)e-19\n"
     ]
    }
   ],
   "source": [
    "for i in range(0,5,1):\n",
    "    Qlist[i] = particle_charge(vlist[i][0],vlist[i][1],ufloat(300,5))\n",
    "    print(Qlist[i])\n",
    "for i in range(5,10,1):\n",
    "    Qlist[i] = particle_charge(vlist[i][0],vlist[i][1],ufloat(400,5))\n",
    "    print(Qlist[i])\n",
    "for i in range(10,15,1):\n",
    "    Qlist[i] = particle_charge(vlist[i][0],vlist[i][1],ufloat(500,5))\n",
    "    print(Qlist[i])\n",
    "for i in range(15,20,1):\n",
    "    Qlist[i] = particle_charge(vlist[i][0],vlist[i][1],ufloat(600,5))\n",
    "    print(Qlist[i])"
   ]
  },
  {
   "cell_type": "code",
   "execution_count": 11,
   "metadata": {},
   "outputs": [
    {
     "name": "stdout",
     "output_type": "stream",
     "text": [
      "Gotícula 1 -- Q = (3.44+/-0.08)e-19 C, r =(6.112+/-0.034)e-07 m\n",
      "Gotícula 2 -- Q = (5.53+/-0.13)e-19 C, r =(7.13+/-0.04)e-07 m\n",
      "Gotícula 3 -- Q = (5.09+/-0.12)e-19 C, r =(6.081+/-0.035)e-07 m\n",
      "Gotícula 4 -- Q = (4.74+/-0.11)e-19 C, r =(6.68+/-0.04)e-07 m\n",
      "Gotícula 5 -- Q = (5.46+/-0.13)e-19 C, r =(6.80+/-0.04)e-07 m\n",
      "Gotícula 6 -- Q = (5.33+/-0.11)e-19 C, r =(7.84+/-0.04)e-07 m\n",
      "Gotícula 7 -- Q = (6.21+/-0.13)e-19 C, r =(6.75+/-0.04)e-07 m\n",
      "Gotícula 8 -- Q = (4.37+/-0.09)e-19 C, r =(5.863+/-0.033)e-07 m\n",
      "Gotícula 9 -- Q = (3.52+/-0.08)e-19 C, r =(4.750+/-0.027)e-07 m\n",
      "Gotícula 10 -- Q = (3.15+/-0.07)e-19 C, r =(5.432+/-0.031)e-07 m\n",
      "Gotícula 11 -- Q = (5.30+/-0.11)e-19 C, r =(6.57+/-0.04)e-07 m\n",
      "Gotícula 12 -- Q = (3.32+/-0.07)e-19 C, r =(6.68+/-0.04)e-07 m\n",
      "Gotícula 13 -- Q = (3.06+/-0.06)e-19 C, r =(6.77+/-0.04)e-07 m\n",
      "Gotícula 14 -- Q = (5.40+/-0.11)e-19 C, r =(6.79+/-0.04)e-07 m\n",
      "Gotícula 15 -- Q = (5.68+/-0.11)e-19 C, r =(7.45+/-0.04)e-07 m\n",
      "Gotícula 16 -- Q = (3.62+/-0.07)e-19 C, r =(6.70+/-0.04)e-07 m\n",
      "Gotícula 17 -- Q = (2.87+/-0.06)e-19 C, r =(7.04+/-0.04)e-07 m\n",
      "Gotícula 18 -- Q = (4.55+/-0.09)e-19 C, r =(9.29+/-0.05)e-07 m\n",
      "Gotícula 19 -- Q = (2.86+/-0.06)e-19 C, r =(4.242+/-0.024)e-07 m\n",
      "Gotícula 20 -- Q = (6.28+/-0.12)e-19 C, r =(8.39+/-0.05)e-07 m\n"
     ]
    }
   ],
   "source": [
    "#Lista os valores de Q e r com incerteza\n",
    "for i in range(0,20,1):\n",
    "    print(\"Gotícula {} -- Q = {} C, r ={} m\".format(i+1,Qlist[i],rlist[i]))"
   ]
  },
  {
   "cell_type": "code",
   "execution_count": 12,
   "metadata": {},
   "outputs": [],
   "source": [
    "#Cria listas contendo apenas os valores nominais para Q e r\n",
    "QlistNV = [0.]*20\n",
    "rlistNV = [0.]*20\n",
    "QlistU = [0.]*20\n",
    "rlistU = [0.]*20\n",
    "for i in range(0,20,1):\n",
    "    QlistNV[i] = Qlist[i].n\n",
    "    rlistNV[i] = rlist[i].n\n",
    "    QlistU[i] = Qlist[i].s\n",
    "    rlistU[i] = rlist[i].s"
   ]
  },
  {
   "cell_type": "code",
   "execution_count": 13,
   "metadata": {},
   "outputs": [
    {
     "data": {
      "image/png": "[encoded data removed]",
      "text/plain": [
       "<Figure size 432x288 with 1 Axes>"
      ]
     },
     "metadata": {
      "needs_background": "light"
     },
     "output_type": "display_data"
    }
   ],
   "source": [
    "#Plota o gráfico Qxr dos valores nominais dessas grandezas\n",
    "srlist = rlistNV; srlist.sort()\n",
    "sQlist = QlistNV; sQlist.sort()\n",
    "plt.xlim(0.95*srlist[0], 1.05*srlist[19])\n",
    "plt.ylim(0.95*sQlist[0],1.05*sQlist[19])\n",
    "plt.xlabel(\"Raio da gotícula (m)\")\n",
    "plt.ylabel(\"Carga elétrica da gotícula (C)\")\n",
    "plt.scatter(rlistNV,QlistNV,marker='o',s=3,c=('black'))\n",
    "plt.show()"
   ]
  },
  {
   "cell_type": "code",
   "execution_count": 14,
   "metadata": {},
   "outputs": [],
   "source": [
    "ssQlist = Qlist; ssQlist.sort()\n",
    "L1 = (ssQlist[0]+ssQlist[1]+ssQlist[2]+ssQlist[3])/4\n",
    "L2 = (ssQlist[4]+ssQlist[5]+ssQlist[6]+ssQlist[7])/4\n",
    "L3 = (ssQlist[8]+ssQlist[9]+ssQlist[10])/3\n",
    "L4 = (ssQlist[11]+ssQlist[12]+ssQlist[13]+ssQlist[14]+ssQlist[15]+ssQlist[16]+ssQlist[17])/7\n",
    "L5 = (ssQlist[18]+ssQlist[19])/2"
   ]
  },
  {
   "cell_type": "code",
   "execution_count": 15,
   "metadata": {},
   "outputs": [
    {
     "data": {
      "image/png": "[encoded data removed]",
      "text/plain": [
       "<Figure size 432x288 with 1 Axes>"
      ]
     },
     "metadata": {
      "needs_background": "light"
     },
     "output_type": "display_data"
    }
   ],
   "source": [
    "#Plota o gráfico Qxr com barras horizontais\n",
    "plt.xlim(0.95*srlist[0], 1.05*srlist[19])\n",
    "plt.ylim(0.95*sQlist[0],1.05*sQlist[19])\n",
    "plt.xlabel(\"Raio da gotícula (m)\")\n",
    "plt.ylabel(\"Carga elétrica da gotícula (C)\")\n",
    "plt.scatter(rlistNV,QlistNV,marker='o',s=3,c=('black'))\n",
    "plt.axhline(y=L1.n);plt.axhline(y=L2.n);plt.axhline(y=L3.n);plt.axhline(y=L4.n);plt.axhline(y=L5.n)\n",
    "plt.show()"
   ]
  },
  {
   "cell_type": "code",
   "execution_count": 16,
   "metadata": {},
   "outputs": [],
   "source": [
    "a1=L1; a2=L2-L1; a3=L3-L2; a4=L4-L3; a5=L5-L4"
   ]
  },
  {
   "cell_type": "code",
   "execution_count": 17,
   "metadata": {},
   "outputs": [
    {
     "name": "stdout",
     "output_type": "stream",
     "text": [
      "(1.250+/-0.024)e-19\n"
     ]
    }
   ],
   "source": [
    "e = [a1,a2,a3,a4,a5]; e = np.asarray(e); print(e.sum()/5)"
   ]
  }
 ],
 "metadata": {
  "kernelspec": {
   "display_name": "Python 3",
   "language": "python",
   "name": "python3"
  },
  "language_info": {
   "codemirror_mode": {
    "name": "ipython",
    "version": 3
   },
   "file_extension": ".py",
   "mimetype": "text/x-python",
   "name": "python",
   "nbconvert_exporter": "python",
   "pygments_lexer": "ipython3",
   "version": "3.8.8"
  }
 },
 "nbformat": 4,
 "nbformat_minor": 2
}
